{
  "nbformat": 4,
  "nbformat_minor": 0,
  "metadata": {
    "colab": {
      "provenance": [],
      "toc_visible": true,
      "authorship_tag": "ABX9TyPSnV0bMKLBQna6vOXGIZQI",
      "include_colab_link": true
    },
    "kernelspec": {
      "name": "python3",
      "display_name": "Python 3"
    },
    "language_info": {
      "name": "python"
    }
  },
  "cells": [
    {
      "cell_type": "markdown",
      "metadata": {
        "id": "view-in-github",
        "colab_type": "text"
      },
      "source": [
        "<a href=\"https://colab.research.google.com/github/RudravMahure/numpy/blob/main/numpy_01.ipynb\" target=\"_parent\"><img src=\"https://colab.research.google.com/assets/colab-badge.svg\" alt=\"Open In Colab\"/></a>"
      ]
    },
    {
      "cell_type": "code",
      "execution_count": 5,
      "metadata": {
        "colab": {
          "base_uri": "https://localhost:8080/"
        },
        "id": "KA2qzQYqqIwB",
        "outputId": "f606c87f-b0aa-4b74-e6f3-3157a3659e6d"
      },
      "outputs": [
        {
          "output_type": "stream",
          "name": "stdout",
          "text": [
            "[1 2 3]\n",
            "\n",
            "[[1 2 3]\n",
            " [4 5 6]]\n"
          ]
        }
      ],
      "source": [
        "import numpy as np\n",
        "# single dimension array\n",
        "a=np.array([1,2,3])\n",
        "print(a)\n",
        "# two dimensional array\n",
        "print()\n",
        "a=np.array([[1,2,3],[4,5,6]])\n",
        "print(a)\n"
      ]
    },
    {
      "cell_type": "code",
      "source": [
        "#print array of zeros\n",
        "a=np.zeros(3)\n",
        "print(a)\n",
        "print()\n",
        "#print array of ones\n",
        "a=np.ones(4)\n",
        "print(a)\n",
        "print()\n",
        "#create empty array\n",
        "a=np.empty(10)\n",
        "print(a)\n",
        "print()"
      ],
      "metadata": {
        "colab": {
          "base_uri": "https://localhost:8080/"
        },
        "id": "gvZIBEjrvCC6",
        "outputId": "dcb894a4-2c3e-41b2-fd67-71422f22a953"
      },
      "execution_count": 12,
      "outputs": [
        {
          "output_type": "stream",
          "name": "stdout",
          "text": [
            "[0. 0. 0.]\n",
            "\n",
            "[1. 1. 1. 1.]\n",
            "\n",
            "[0.0e+000 4.9e-324 9.9e-324 1.5e-323 2.0e-323 2.5e-323 3.0e-323 3.5e-323\n",
            " 4.0e-323 4.4e-323]\n",
            "\n"
          ]
        }
      ]
    },
    {
      "cell_type": "code",
      "source": [
        "# create an array of 0 to 9\n",
        "a=np.arange(10)\n",
        "print(a)\n",
        "\n",
        "print()\n",
        "\n",
        "# np.arange(first name , last name , difference)\n",
        "a=np.arange(3,9,3)\n",
        "print()\n",
        "a=np.arange(3,10,3)\n",
        "print(a)\n",
        "\n",
        "print()\n",
        "\n",
        "a=np.linspace(2,10,5)\n",
        "print(a)"
      ],
      "metadata": {
        "colab": {
          "base_uri": "https://localhost:8080/"
        },
        "id": "arvPmJCov7ep",
        "outputId": "6336e40d-6522-465d-c76c-5e0636715ed0"
      },
      "execution_count": 18,
      "outputs": [
        {
          "output_type": "stream",
          "name": "stdout",
          "text": [
            "[0 1 2 3 4 5 6 7 8 9]\n",
            "\n",
            "\n",
            "[3 6 9]\n",
            "\n",
            "[ 2.  4.  6.  8. 10.]\n"
          ]
        }
      ]
    },
    {
      "cell_type": "code",
      "source": [
        "#sort and concatination of arrays\n",
        "a=np.array([1,2,465,324,254,76,1234,654,3743])\n",
        "b=np.array([5,37432,8673,237,3942])\n",
        "\n",
        "#concatenation of two strieng\n",
        "print(np.concatenate((a,b)))\n",
        "c=np.concatenate((a,b))\n",
        "\n",
        "#sorting of  string\n",
        "c=np.sort(c)\n",
        "print()\n",
        "print(c)\n",
        "\n",
        "#this type of concatention is only perform on same dimension of array\n",
        "a=np.array([[1,2,3,4],[5,6,7,8]])\n",
        "b=np.array([[9,10,11,12],[13,14,15,16]])\n",
        "\n",
        "print()\n",
        "#axis=0 means row wise arrangement of arrays\n",
        "print(np.concatenate((a,b),axis=0))\n",
        "\n",
        "print()\n",
        "#axis=0 means column wise arrangement of arrays\n",
        "print(np.concatenate((a,b),axis=1))"
      ],
      "metadata": {
        "colab": {
          "base_uri": "https://localhost:8080/"
        },
        "id": "JWs-SwiSzINv",
        "outputId": "18fa17d6-82ab-42b5-9f37-87dba24a83a8"
      },
      "execution_count": 27,
      "outputs": [
        {
          "output_type": "stream",
          "name": "stdout",
          "text": [
            "[    1     2   465   324   254    76  1234   654  3743     5 37432  8673\n",
            "   237  3942]\n",
            "\n",
            "[    1     2     5    76   237   254   324   465   654  1234  3743  3942\n",
            "  8673 37432]\n",
            "\n",
            "[[ 1  2  3  4]\n",
            " [ 5  6  7  8]\n",
            " [ 9 10 11 12]\n",
            " [13 14 15 16]]\n",
            "\n",
            "[[ 1  2  3  4  9 10 11 12]\n",
            " [ 5  6  7  8 13 14 15 16]]\n"
          ]
        }
      ]
    }
  ]
}