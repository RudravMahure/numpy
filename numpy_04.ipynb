{
  "nbformat": 4,
  "nbformat_minor": 0,
  "metadata": {
    "colab": {
      "provenance": [],
      "authorship_tag": "ABX9TyO51WGaYIYLKr3KVtgs2gek",
      "include_colab_link": true
    },
    "kernelspec": {
      "name": "python3",
      "display_name": "Python 3"
    },
    "language_info": {
      "name": "python"
    }
  },
  "cells": [
    {
      "cell_type": "markdown",
      "metadata": {
        "id": "view-in-github",
        "colab_type": "text"
      },
      "source": [
        "<a href=\"https://colab.research.google.com/github/RudravMahure/numpy/blob/main/numpy_04.ipynb\" target=\"_parent\"><img src=\"https://colab.research.google.com/assets/colab-badge.svg\" alt=\"Open In Colab\"/></a>"
      ]
    },
    {
      "cell_type": "markdown",
      "source": [
        "**Boolean Indexing:**\n",
        "\n",
        "There are many situations in which we don't know the indices of the elements we want to select. For example, suppose we have a 10,000 x 10,000 ndarray of random integers ranging from 1 to 15,000 and we only want to select those integers that are less than 20. Boolean indexing can help us in these cases, by allowing us select elements using logical arguments instead of explicit indices. Let's see some examples:"
      ],
      "metadata": {
        "id": "n5ugIcQYFGbR"
      }
    },
    {
      "cell_type": "code",
      "execution_count": 1,
      "metadata": {
        "id": "RMa7TAvzE4WG"
      },
      "outputs": [],
      "source": [
        "import numpy as np"
      ]
    },
    {
      "cell_type": "code",
      "source": [
        "#RANDOM:- random function is use to select random elements\n",
        "#RANDINT:- this function is used to give values between ranges (start,end,number of elements)\n",
        "#RESHAPE:- this function is used to reshape the matrix/array\n",
        "arr=np.random.randint(0,30,100).reshape(10,10)\n",
        "\n",
        "#Print the array\n",
        "print()\n",
        "print('Print Array:-',arr)\n",
        "print()\n",
        "\n",
        "#it give boolean value if greater than 10 true or false\n",
        "print((arr>10))\n",
        "#Print the account need\n",
        "print('Elements greater than 20:-',arr[arr>20])\n",
        "print('Elements greater than 10 and less than 20:-',arr[(arr>10)&(arr<20)])\n",
        "print('Elements less than 20:-',arr[arr<20])\n",
        "print('Elements less than 10 or greater than 20:-',arr[(arr<10)|(arr>20)])\n",
        "\n",
        "\n",
        "print(arr>10)"
      ],
      "metadata": {
        "colab": {
          "base_uri": "https://localhost:8080/"
        },
        "id": "wKDgh0esFa2S",
        "outputId": "6a46f976-f626-4edc-b2bd-5bd1e3a0ee46"
      },
      "execution_count": 11,
      "outputs": [
        {
          "output_type": "stream",
          "name": "stdout",
          "text": [
            "\n",
            "Print Array:- [[20 19  9 28 15 14 12 12 28 20]\n",
            " [19  3  6  9 28 21 23 29  6 17]\n",
            " [21 26 13 25  0  4 20 29  2  7]\n",
            " [ 7 12  8 18  0 29 19 24 25  4]\n",
            " [24 25 27 28  3  3 25 12  7 16]\n",
            " [12 18  1 25 12 10 16 29 15  1]\n",
            " [ 4 21 23 29  2  1 25 24 24  5]\n",
            " [29 21 27 12  9 20 11 13 26 17]\n",
            " [26 28  6 24 28  5 22 27 20 13]\n",
            " [13  7  7  9 11  7 26 27 22 25]]\n",
            "\n",
            "[[ True  True False  True  True  True  True  True  True  True]\n",
            " [ True False False False  True  True  True  True False  True]\n",
            " [ True  True  True  True False False  True  True False False]\n",
            " [False  True False  True False  True  True  True  True False]\n",
            " [ True  True  True  True False False  True  True False  True]\n",
            " [ True  True False  True  True False  True  True  True False]\n",
            " [False  True  True  True False False  True  True  True False]\n",
            " [ True  True  True  True False  True  True  True  True  True]\n",
            " [ True  True False  True  True False  True  True  True  True]\n",
            " [ True False False False  True False  True  True  True  True]]\n",
            "Elements greater than 20:- [28 28 28 21 23 29 21 26 25 29 29 24 25 24 25 27 28 25 25 29 21 23 29 25\n",
            " 24 24 29 21 27 26 26 28 24 28 22 27 26 27 22 25]\n",
            "Elements greater than 10 and less than 20:- [19 15 14 12 12 19 17 13 12 18 19 12 16 12 18 12 16 15 12 11 13 17 13 13\n",
            " 11]\n",
            "Elements less than 20:- [19  9 15 14 12 12 19  3  6  9  6 17 13  0  4  2  7  7 12  8 18  0 19  4\n",
            "  3  3 12  7 16 12 18  1 12 10 16 15  1  4  2  1  5 12  9 11 13 17  6  5\n",
            " 13 13  7  7  9 11  7]\n",
            "Elements less than 10 or greater than 20:- [ 9 28 28  3  6  9 28 21 23 29  6 21 26 25  0  4 29  2  7  7  8  0 29 24\n",
            " 25  4 24 25 27 28  3  3 25  7  1 25 29  1  4 21 23 29  2  1 25 24 24  5\n",
            " 29 21 27  9 26 26 28  6 24 28  5 22 27  7  7  9  7 26 27 22 25]\n",
            "[[ True  True False  True  True  True  True  True  True  True]\n",
            " [ True False False False  True  True  True  True False  True]\n",
            " [ True  True  True  True False False  True  True False False]\n",
            " [False  True False  True False  True  True  True  True False]\n",
            " [ True  True  True  True False False  True  True False  True]\n",
            " [ True  True False  True  True False  True  True  True False]\n",
            " [False  True  True  True False False  True  True  True False]\n",
            " [ True  True  True  True False  True  True  True  True  True]\n",
            " [ True  True False  True  True False  True  True  True  True]\n",
            " [ True False False False  True False  True  True  True  True]]\n"
          ]
        }
      ]
    },
    {
      "cell_type": "markdown",
      "source": [
        "**Set Operations:**\n",
        "\n",
        "In addition to Boolean Indexing NumPy also allows for set operations. This useful when comparing ndarrays, for example, to find common elements between two ndarrays. Let's see some examples:"
      ],
      "metadata": {
        "id": "fWfZC1eoI5ta"
      }
    },
    {
      "cell_type": "code",
      "source": [
        "#Creating to array\n",
        "x=np.array([1,2,3,4,5])\n",
        "y=np.array([4,5,6,7,8,9])\n",
        "\n",
        "#Creating 1D array\n",
        "print('X:-')\n",
        "print(x)\n",
        "print(\"Y:-\")\n",
        "print(y)\n",
        "\n",
        "#Operations on sets\n",
        "print('Intersection of sets:- ',np.intersect1d(x,y))\n",
        "print('Union of sets:-',np.union1d(x,y))\n",
        "print('Difference of sets:-',np.setdiff1d(x,y))"
      ],
      "metadata": {
        "colab": {
          "base_uri": "https://localhost:8080/"
        },
        "id": "-8dLihMQI8m2",
        "outputId": "4ad992cb-7714-45d5-9e04-e191fde9b6a2"
      },
      "execution_count": 16,
      "outputs": [
        {
          "output_type": "stream",
          "name": "stdout",
          "text": [
            "X:-\n",
            "[1 2 3 4 5]\n",
            "Y:-\n",
            "[4 5 6 7 8 9]\n",
            "Intersection of sets:-  [4 5]\n",
            "Union of sets:- [1 2 3 4 5 6 7 8 9]\n",
            "Difference of sets:- [1 2 3]\n"
          ]
        }
      ]
    },
    {
      "cell_type": "markdown",
      "source": [
        "**Sort():**\n",
        "\n",
        "\n",
        "We can also sort ndarrays in NumPy. We will learn how to use the np.sort() function to sort rank 1 and rank 2 ndarrays in different ways. Like with other functions we saw before, the sort function can also be used as a method. However, there is a big difference on how the data is stored in memory in this case.\n",
        "\n",
        "When np.sort() is used as a function, it sorts the ndrrays out of place, meaning, that it doesn't change the original ndarray being sorted.\n",
        "However, when you use sort as a method, ndarray.sort() sorts the ndarray in place, meaning, that the original array will be changed to the sorted one."
      ],
      "metadata": {
        "id": "aFLzW_FtKBBY"
      }
    },
    {
      "cell_type": "code",
      "source": [
        "arr=np.random.randint(0,20,50)\n",
        "\n",
        "print('Original array')\n",
        "print('X:-',arr)\n",
        "print()\n",
        "\n",
        "print(\"Sorted array using np.sort() function:- \",np.sort(arr))\n",
        "\n",
        "print(\"After Sorting array:- \",arr)\n",
        "\n",
        "#using ndarray.sort() the orginial array is sort permanently\n",
        "\n"
      ],
      "metadata": {
        "colab": {
          "base_uri": "https://localhost:8080/"
        },
        "id": "4_0_EhkyKON2",
        "outputId": "3984e218-dd32-4424-b251-f77ea6dea4b2"
      },
      "execution_count": 22,
      "outputs": [
        {
          "output_type": "stream",
          "name": "stdout",
          "text": [
            "Original array\n",
            "X:- [16 17  6  9  2  6 17  7 19  9 13 14  1  5 19  4 16  5  2  6  1  3 11  0\n",
            "  7  2 14  9 19 11 16  2  7 14 14 10  8  8  1 17 10 19 17  6  7 14  2 19\n",
            "  3 19]\n",
            "\n",
            "Sorted array using np.sort() function:-  [ 0  1  1  1  2  2  2  2  2  3  3  4  5  5  6  6  6  6  7  7  7  7  8  8\n",
            "  9  9  9 10 10 11 11 13 14 14 14 14 14 16 16 16 17 17 17 17 19 19 19 19\n",
            " 19 19]\n",
            "After Sorting array:-  [16 17  6  9  2  6 17  7 19  9 13 14  1  5 19  4 16  5  2  6  1  3 11  0\n",
            "  7  2 14  9 19 11 16  2  7 14 14 10  8  8  1 17 10 19 17  6  7 14  2 19\n",
            "  3 19]\n"
          ]
        }
      ]
    },
    {
      "cell_type": "code",
      "source": [
        "#Create an array\n",
        "arr=np.random.randint(0,10,15)\n",
        "\n",
        "print(\"Orignial array:-\",arr)\n",
        "#using unique we only keep unique value\n",
        "#return_counts gives the count of numbers\n",
        "print(np.sort(np.unique(arr)))\n",
        "print(np.unique(arr,return_counts=True))\n",
        "print(np.unique(arr))"
      ],
      "metadata": {
        "colab": {
          "base_uri": "https://localhost:8080/"
        },
        "id": "jKoSsR8dMy8d",
        "outputId": "15cfa899-c134-43a0-eb31-3caa9f3b7475"
      },
      "execution_count": 27,
      "outputs": [
        {
          "output_type": "stream",
          "name": "stdout",
          "text": [
            "Orignial array:- [8 2 4 4 1 7 4 9 8 6 9 5 6 7 1]\n",
            "[1 2 4 5 6 7 8 9]\n",
            "(array([1, 2, 4, 5, 6, 7, 8, 9]), array([2, 1, 3, 1, 2, 2, 2, 2]))\n",
            "[1 2 4 5 6 7 8 9]\n"
          ]
        }
      ]
    },
    {
      "cell_type": "markdown",
      "source": [
        "When sorting rank 2 ndarrays, we need to specify to the np.sort() function whether we are sorting by rows or columns. This is done by using the axis keyword. Let's see some examples:"
      ],
      "metadata": {
        "id": "e2o6_sSAOBir"
      }
    },
    {
      "cell_type": "code",
      "source": [
        "#create an array\n",
        "arr=np.random.randint(0,10,size=(5,5))\n",
        "print(\"Array:- \",arr)\n",
        "\n",
        "#We sort the columns of X and print the sorted array\n",
        "print()\n",
        "print(\"Sorting using column:-\",np.sort(arr,axis=0))\n",
        "\n",
        "# We sort the rows of X and print the sorted array\n",
        "print()\n",
        "print(\"Sorting using row:-\",np.sort(arr,axis=1))"
      ],
      "metadata": {
        "colab": {
          "base_uri": "https://localhost:8080/"
        },
        "id": "nOcOt-yeOBCY",
        "outputId": "c2fe37cf-9380-45af-d4c1-aa18e4e5d5ce"
      },
      "execution_count": 30,
      "outputs": [
        {
          "output_type": "stream",
          "name": "stdout",
          "text": [
            "Array:-  [[3 2 1 3 0]\n",
            " [2 8 3 7 5]\n",
            " [9 7 9 3 1]\n",
            " [0 2 7 6 8]\n",
            " [7 9 4 8 0]]\n",
            "\n",
            "Sorting using column:- [[0 2 1 3 0]\n",
            " [2 2 3 3 0]\n",
            " [3 7 4 6 1]\n",
            " [7 8 7 7 5]\n",
            " [9 9 9 8 8]]\n",
            "\n",
            "Sorting using row:- [[0 1 2 3 3]\n",
            " [2 3 5 7 8]\n",
            " [1 3 7 9 9]\n",
            " [0 2 6 7 8]\n",
            " [0 4 7 8 9]]\n"
          ]
        }
      ]
    },
    {
      "cell_type": "code",
      "source": [
        "arr1=np.empty(shape=(2,2))\n",
        "print(x)\n",
        "print(x.dtype)\n",
        "for i in range(2):\n",
        "  for j in range(2):\n",
        "    arr1[i,j]=input()\n",
        "print()\n",
        "print(arr1)"
      ],
      "metadata": {
        "colab": {
          "base_uri": "https://localhost:8080/"
        },
        "id": "REk5_uNuPXc6",
        "outputId": "759897a3-1722-4d73-fdc7-dffb7b4c3288"
      },
      "execution_count": 33,
      "outputs": [
        {
          "output_type": "stream",
          "name": "stdout",
          "text": [
            "[1 2 3 4 5]\n",
            "int64\n",
            "12\n",
            "25\n",
            "32\n",
            "11\n",
            "\n",
            "[[12. 25.]\n",
            " [32. 11.]]\n"
          ]
        }
      ]
    },
    {
      "cell_type": "markdown",
      "source": [
        "**Arithmtic Operations:**\n",
        "\n",
        "Let's start by doing element-wise addition, subtraction, multiplication, and division, between ndarrays. To do this, NumPy provides a functional approach, where we use functions such as np.add(), or by using arithmetic symbols, such as +, that resembles more how we write mathematical equations. Both forms will do the same operation, the only difference is that if you use the function approach, the functions usually have options that you can tweak using keywords. It is important to note that when performing element-wise operations, the shapes of the ndarrays being operated on, must have the same shape or be broadcastable. We'll explain more about this later in this lesson. Let's start by performing element-wise arithmetic operations on rank 1 ndarrays:"
      ],
      "metadata": {
        "id": "f36qrsOQTp9H"
      }
    },
    {
      "cell_type": "code",
      "source": [
        "# We create two rank 1 ndarrays\n",
        "x = np.array([1,2,3,4])\n",
        "y = np.array([5.5,6.5,7.5,8.5])\n",
        "\n",
        "# We print x\n",
        "print()\n",
        "print('x = ', x)\n",
        "\n",
        "# We print y\n",
        "print()\n",
        "print('y = ', y)\n",
        "print()\n",
        "\n",
        "# We perfrom basic element-wise operations using arithmetic symbols and functions\n",
        "print('x + y = ', x + y)\n",
        "print('add(x,y) = ', np.add(x,y))\n",
        "print()\n",
        "print('x - y = ', x - y)\n",
        "print('subtract(x,y) = ', np.subtract(x,y))\n",
        "print()\n",
        "print('x * y = ', x * y)\n",
        "print('multiply(x,y) = ', np.multiply(x,y))     #np.dot(x,y)  for matrix multiplication\n",
        "print()\n",
        "print('x / y = ', x / y)\n",
        "print('divide(x,y) = ', np.divide(x,y))\n",
        "\n",
        "# print(x*[5])\n",
        "# print(x+[5])\n",
        "print(x+5)\n",
        "print(x*5)\n"
      ],
      "metadata": {
        "id": "oArYLnApQfIF"
      },
      "execution_count": null,
      "outputs": []
    },
    {
      "cell_type": "markdown",
      "source": [
        "We can also perform the same element-wise arithmetic operations on rank 2 ndarrays. Again, remember that in order to do these operations the shapes of the ndarrays being operated on, must have the same shape or be broadcastable."
      ],
      "metadata": {
        "id": "7A9TavWiUTrt"
      }
    },
    {
      "cell_type": "code",
      "source": [
        "# We create two rank 2 ndarrays\n",
        "X = np.array([1,2,3,4]).reshape(2,2)\n",
        "Y = np.array([5.5,6.5,7.5,8.5]).reshape(2,2)\n",
        "\n",
        "# We print X\n",
        "print()\n",
        "print('X = \\n', X)\n",
        "\n",
        "# We print Y\n",
        "print()\n",
        "print('Y = \\n', Y)\n",
        "print()\n",
        "\n",
        "# We perform basic element-wise operations using arithmetic symbols and functions\n",
        "print('X + Y = \\n', X + Y)\n",
        "print()\n",
        "print('add(X,Y) = \\n', np.add(X,Y))\n",
        "print()\n",
        "print('X - Y = \\n', X - Y)\n",
        "print()\n",
        "print('subtract(X,Y) = \\n', np.subtract(X,Y))\n",
        "print()\n",
        "print('X * Y = \\n', X * Y)\n",
        "print()\n",
        "print('multiply(X,Y) = \\n', np.multiply(X,Y))\n",
        "print()\n",
        "print('X / Y = \\n', X / Y)\n",
        "print()\n",
        "print('divide(X,Y) = \\n', np.divide(X,Y))\n",
        "print()\n",
        "print('np.dot(X,Y)',np.dot(X,Y))\n",
        "\n",
        "print(\"deterinant of matrix\",np.linalg.det(X))\n",
        "\n",
        "# p*q  q*r => p*r"
      ],
      "metadata": {
        "id": "txstTsrhUV5z"
      },
      "execution_count": null,
      "outputs": []
    },
    {
      "cell_type": "markdown",
      "source": [
        "We can also apply mathematical functions, such as sqrt(x), to all elements of an ndarray at once."
      ],
      "metadata": {
        "id": "RIbBXBywUpvb"
      }
    },
    {
      "cell_type": "code",
      "source": [
        "# We create a rank 1 ndarray\n",
        "x = np.array([1,2,3,4])\n",
        "\n",
        "# We print x\n",
        "print()\n",
        "print('x = ', x)\n",
        "\n",
        "# We apply different mathematical functions to all elements of x\n",
        "print()\n",
        "print('EXP(x) =', np.exp(x))\n",
        "print()\n",
        "print('SQRT(x) =',np.sqrt(x))\n",
        "print()\n",
        "print('POW(x,2) =',np.power(x,3)) # We raise all elements to the power of 2\n",
        "print()"
      ],
      "metadata": {
        "id": "D7bcdJY4Ul5J"
      },
      "execution_count": null,
      "outputs": []
    },
    {
      "cell_type": "markdown",
      "source": [
        "Another great feature of NumPy is that it has a wide variety of statistical functions. Statistical functions provide us with statistical information about the elements in an ndarray. Let's see some examples:"
      ],
      "metadata": {
        "id": "1KX5BsM9VeI1"
      }
    },
    {
      "cell_type": "code",
      "source": [
        "# We create a 2 x 2 ndarray\n",
        "X = np.array([[1,2], [3,4]])\n",
        "\n",
        "# We print x\n",
        "print()\n",
        "print('X = \\n', X)\n",
        "print()\n",
        "\n",
        "print('Average of all elements in X:', X.mean())\n",
        "print('Average of all elements in the columns of X:', X.mean(axis=0))\n",
        "print('Average of all elements in the rows of X:', X.mean(axis=1))\n",
        "print()\n",
        "print('Sum of all elements in X:', X.sum())\n",
        "print('Sum of all elements in the columns of X:', X.sum(axis=0))\n",
        "print('Sum of all elements in the rows of X:', X.sum(axis=1))\n",
        "print()\n",
        "print('Standard Deviation of all elements in X:', X.std())\n",
        "print('Standard Deviation of all elements in the columns of X:', X.std(axis=0))\n",
        "print('Standard Deviation of all elements in the rows of X:', X.std(axis=1))\n",
        "print()\n",
        "print('Median of all elements in X:', np.median(X))\n",
        "print('Median of all elements in the columns of X:', np.median(X,axis=0))\n",
        "print('Median of all elements in the rows of X:', np.median(X,axis=1))\n",
        "print()\n",
        "print('Maximum value of all elements in X:', X.max())\n",
        "print('Maximum value of all elements in the columns of X:', X.max(axis=0))\n",
        "print('Maximum value of all elements in the rows of X:', X.max(axis=1))\n",
        "print()\n",
        "print('Minimum value of all elements in X:', X.min())\n",
        "print('Minimum value of all elements in the columns of X:', X.min(axis=0))\n",
        "print('Minimum value of all elements in the rows of X:', X.min(axis=1))\n",
        "print()"
      ],
      "metadata": {
        "colab": {
          "base_uri": "https://localhost:8080/"
        },
        "id": "F-nzxVh1Vewa",
        "outputId": "ff1681b4-c71c-427a-97f0-12148b607350"
      },
      "execution_count": 34,
      "outputs": [
        {
          "output_type": "stream",
          "name": "stdout",
          "text": [
            "\n",
            "arr:- [[1 2 3]\n",
            " [4 5 6]\n",
            " [7 8 9]]\n"
          ]
        }
      ]
    },
    {
      "cell_type": "markdown",
      "source": [
        "Finally, let's see how NumPy can perform arithmetics between a single numbers and all the elements of an ndarray without the use of complicated loops."
      ],
      "metadata": {
        "id": "b6Y1AgKHXTEb"
      }
    },
    {
      "cell_type": "code",
      "source": [
        "# We create a 2 x 2 ndarray\n",
        "X = np.array([[1,2], [3,4]])\n",
        "\n",
        "# We print x\n",
        "print()\n",
        "print('X = \\n', X)\n",
        "print()\n",
        "\n",
        "print('3 * X = \\n', 3 * X)\n",
        "print()\n",
        "print('3 + X = \\n', 3 + X)\n",
        "print()\n",
        "print('X - 3 = \\n', X - 3)\n",
        "print()\n",
        "print('X / 3 = \\n', X / 3)\n",
        "print()"
      ],
      "metadata": {
        "id": "v6rr33noXUAu"
      },
      "execution_count": null,
      "outputs": []
    }
  ]
}