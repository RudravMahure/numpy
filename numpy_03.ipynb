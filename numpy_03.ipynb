{
  "nbformat": 4,
  "nbformat_minor": 0,
  "metadata": {
    "colab": {
      "provenance": [],
      "authorship_tag": "ABX9TyNBIPWjRJ52a+LTKdP4KQlz",
      "include_colab_link": true
    },
    "kernelspec": {
      "name": "python3",
      "display_name": "Python 3"
    },
    "language_info": {
      "name": "python"
    }
  },
  "cells": [
    {
      "cell_type": "markdown",
      "metadata": {
        "id": "view-in-github",
        "colab_type": "text"
      },
      "source": [
        "<a href=\"https://colab.research.google.com/github/RudravMahure/numpy/blob/main/numpy_03.ipynb\" target=\"_parent\"><img src=\"https://colab.research.google.com/assets/colab-badge.svg\" alt=\"Open In Colab\"/></a>"
      ]
    },
    {
      "cell_type": "markdown",
      "source": [
        "Accessing elements in numpy\n",
        "\n",
        "Elements can be accessed using indices inside square brackets, [ ]. NumPy allows you to use both positive and negative indices to access elements in the ndarray. Positive indices are used to access elements from the beginning of the array, while negative indices are used to access elements from the end of the array.\n"
      ],
      "metadata": {
        "id": "O8nMA6A21Kzl"
      }
    },
    {
      "cell_type": "code",
      "execution_count": 2,
      "metadata": {
        "id": "-fnKe96czqXf"
      },
      "outputs": [],
      "source": [
        "import numpy as np"
      ]
    },
    {
      "cell_type": "code",
      "source": [
        "#Accessing Elements\n",
        "#numpy supports both negative and positive indexing\n",
        "x=np.array([1,2,3,4,5])\n",
        "print(\"Array:\")\n",
        "print(\"x= \",x)\n",
        "print()\n",
        "\n",
        "#Positive indexing\n",
        "print('First element is ',x[0],' and second element is ',x[1])\n",
        "\n",
        "#Negative indesxing\n",
        "print('Last elemet of array is ',x[-1],' second last element is ',x[-2])"
      ],
      "metadata": {
        "colab": {
          "base_uri": "https://localhost:8080/"
        },
        "id": "hPpU844xz5iy",
        "outputId": "e549e337-ebe0-4183-e884-2a0282834b54"
      },
      "execution_count": 7,
      "outputs": [
        {
          "output_type": "stream",
          "name": "stdout",
          "text": [
            "Array:\n",
            "x=  [1 2 3 4 5]\n",
            "\n",
            "First element is  1  and second element is  2\n",
            "Last elemet of array is  5  second last element is  4\n"
          ]
        }
      ]
    },
    {
      "cell_type": "markdown",
      "source": [
        "Modifying ndarrays:\n",
        "Now let's see how we can change the elements in rank 1 ndarrays. We do this by accessing the element we want to change and then using the = sign to assign the new value:"
      ],
      "metadata": {
        "id": "eYGroRWp3_HC"
      }
    },
    {
      "cell_type": "code",
      "source": [
        "#Modifing elements in array\n",
        "arr=np.array([1,2,3,4,5])\n",
        "print('Array before updarting is ',x)\n",
        "print()\n",
        "arr[4]=10\n",
        "print('Array after updating is ',x)\n"
      ],
      "metadata": {
        "id": "SvIglRRP1GjG"
      },
      "execution_count": null,
      "outputs": []
    },
    {
      "cell_type": "code",
      "source": [
        "#Creating an array of size 3x3\n",
        "\n",
        "arr=np.array([[1,2,3],[4,5,6],[7,8,9]])\n",
        "print('Array:- ',arr)\n",
        "print()\n",
        "print('arr[0,0]= ',arr[0,0])\n",
        "print('arr[1,2]= ',arr[1,2])\n",
        "print('arr[2,2]= ',arr[2,2])\n",
        "\n",
        "#arr[row,element in that row]\n",
        "#in terms of 2D array arr[row,column]"
      ],
      "metadata": {
        "colab": {
          "base_uri": "https://localhost:8080/"
        },
        "id": "8RNGSctB12kZ",
        "outputId": "9c03011d-e54c-47ef-9611-c70fe0382276"
      },
      "execution_count": 9,
      "outputs": [
        {
          "output_type": "stream",
          "name": "stdout",
          "text": [
            "Array:-  [[1 2 3]\n",
            " [4 5 6]\n",
            " [7 8 9]]\n",
            "\n",
            "X[0,0]=  1\n",
            "x[1,2]=  6\n",
            "x[2,2]=  9\n"
          ]
        }
      ]
    },
    {
      "cell_type": "markdown",
      "source": [
        "\n",
        "Similarly, we can also access and modify specific elements of rank 2 ndarrays. To access elements in rank 2 ndarrays we need to provide 2 indices in the form [row, column]. Let's see some examples\n",
        "\n"
      ],
      "metadata": {
        "id": "0o63mhr94FhD"
      }
    },
    {
      "cell_type": "code",
      "source": [
        "arr=np.array([[1,2,3],[4,5,6],[7,8,9]])\n",
        "print('Before Changes:- ')\n",
        "print(arr)\n",
        "print()\n",
        "\n",
        "arr[0,0]=90\n",
        "arr[1][1]=20\n",
        "\n",
        "print('After Changes:- ')\n",
        "print(arr)"
      ],
      "metadata": {
        "colab": {
          "base_uri": "https://localhost:8080/"
        },
        "id": "BYb0IRjC2SJV",
        "outputId": "5d48d284-3aaf-491b-9596-3224c6641483"
      },
      "execution_count": 12,
      "outputs": [
        {
          "output_type": "stream",
          "name": "stdout",
          "text": [
            "Before Changes:- \n",
            "[[1 2 3]\n",
            " [4 5 6]\n",
            " [7 8 9]]\n",
            "\n",
            "After Changes:- \n",
            "[[90  2  3]\n",
            " [ 4 20  6]\n",
            " [ 7  8  9]]\n"
          ]
        }
      ]
    },
    {
      "cell_type": "markdown",
      "source": [
        "Adding and Deleting elements:\n",
        "\n",
        "Now, let's take a look at how we can add and delete elements from ndarrays. We can delete elements using the np.delete(ndarray, elements, axis) function. This function deletes the given list of elements from the given ndarray along the specified axis. For rank 1 ndarrays the axis keyword is not required. For rank 2 ndarrays, axis = 0 is used to select rows, and axis = 1 is used to select columns. Let's see some examples:"
      ],
      "metadata": {
        "id": "dH9q5Ynm4S0a"
      }
    },
    {
      "cell_type": "code",
      "source": [
        "#Create an 1D array\n",
        "x=([1,2,3,4,5])\n",
        "#Create an 2D array\n",
        "y=([[1,2,3],[4,5,6],[7,8,9]])\n",
        "print('x')\n",
        "print(x)\n",
        "print('y')\n",
        "print(y)\n",
        "#Operations on 1D array\n",
        "#first and last element of array is deleted\n",
        "x=np.delete(x,[0,4])\n",
        "print('Deletion in X')\n",
        "print(x)\n",
        "\n",
        "#Operation on 2D array\n",
        "#Deletion of row\n",
        "y=np.delete(y,2,axis=0)\n",
        "print('Deletion of last row from the y ')\n",
        "print(y)\n",
        "\n",
        "#Deletion of column\n",
        "y=np.delete(y,[0,1],axis=1)\n",
        "print('Deletion of first and second column from the y')\n",
        "print(y)"
      ],
      "metadata": {
        "colab": {
          "base_uri": "https://localhost:8080/"
        },
        "id": "cWQcz_g04Gtm",
        "outputId": "9c614e43-31ae-4504-f63e-22d7987e3599"
      },
      "execution_count": 15,
      "outputs": [
        {
          "output_type": "stream",
          "name": "stdout",
          "text": [
            "x\n",
            "[1, 2, 3, 4, 5]\n",
            "y\n",
            "[[1, 2, 3], [4, 5, 6], [7, 8, 9]]\n",
            "Deletion in X\n",
            "[2 3 4]\n",
            "Deletion of last row from the y \n",
            "[[1 2 3]\n",
            " [4 5 6]]\n",
            "Deletion of first and second column from the y\n",
            "[[3]\n",
            " [6]]\n"
          ]
        }
      ]
    },
    {
      "cell_type": "markdown",
      "source": [
        "We can append values to ndarrays using the np.append(ndarray, elements, axis) function. This function appends the given list of elements to ndarray along the specified axis. Let's see some examples:"
      ],
      "metadata": {
        "id": "qtGkU5ds6s0p"
      }
    },
    {
      "cell_type": "code",
      "source": [
        "#Create a 1 rank array\n",
        "x=np.array([1,2,3,4,5])\n",
        "\n",
        "#Create a 2D array\n",
        "y=np.array([[1,2,3],[4,5,6]])\n",
        "\n",
        "print('X:-')\n",
        "print(x)\n",
        "print('Y:-')\n",
        "print(y)\n",
        "\n",
        "#Append elements in array\n",
        "#Elemets add at the last , we can add single element or array\n",
        "x=np.append(x,[6])\n",
        "\n",
        "x=np.append(x,[7,8])\n",
        "\n",
        "print('Modified X')\n",
        "print(x)\n",
        "\n",
        "#append elements in array\n",
        "#append the row\n",
        "y=np.append(y,[[7,8,9]],axis=0)\n",
        "print('Modified y')\n",
        "print(y)\n",
        "#append column\n",
        "y=np.append(y,[[10],[11],[12]],axis=1)\n",
        "print('After Modification y')\n",
        "print(y)"
      ],
      "metadata": {
        "colab": {
          "base_uri": "https://localhost:8080/"
        },
        "id": "atlj7YGP6xOC",
        "outputId": "5f35eb41-664e-4d18-cc94-5dd371b38a4c"
      },
      "execution_count": 20,
      "outputs": [
        {
          "output_type": "stream",
          "name": "stdout",
          "text": [
            "X:-\n",
            "[1 2 3 4 5]\n",
            "Y:-\n",
            "[[1 2 3]\n",
            " [4 5 6]]\n",
            "Modified X\n",
            "[1 2 3 4 5 6 7 8]\n",
            "Modified y\n",
            "[[1 2 3]\n",
            " [4 5 6]\n",
            " [7 8 9]]\n",
            "After Modification y\n",
            "[[ 1  2  3 10]\n",
            " [ 4  5  6 11]\n",
            " [ 7  8  9 12]]\n"
          ]
        }
      ]
    },
    {
      "cell_type": "markdown",
      "source": [
        "Now let's see now how we can insert values to ndarrays. We can insert values to ndarrays using the np.insert(ndarray, index, elements, axis) function. This function inserts the given list of elements to ndarray right before the given index along the specified axis. Let's see some examples:"
      ],
      "metadata": {
        "id": "yAn7f6hO8oHY"
      }
    },
    {
      "cell_type": "code",
      "source": [
        "# We create a rank 1 ndarray\n",
        "x = np.array([1, 2, 5, 6, 7])\n",
        "\n",
        "# We create a rank 2 ndarray\n",
        "Y = np.array([[1,2,3],[7,8,9]])\n",
        "\n",
        "# We print x\n",
        "print()\n",
        "print('Original x = ', x)\n",
        "\n",
        "# We insert the integer 3 and 4 between 2 and 5 in x.\n",
        "x = np.insert(x,2,[3,4])\n",
        "\n",
        "# We print x with the inserted elements\n",
        "print()\n",
        "print('x = ', x)\n",
        "\n",
        "# We print Y\n",
        "print()\n",
        "print('Original Y = \\n', Y)\n",
        "\n",
        "# We insert a row between the first and last row of y\n",
        "w = np.insert(Y,1,[4,5,6],axis=0)\n",
        "\n",
        "# We insert a column full of 5s between the first and second column of y\n",
        "v = np.insert(Y,1,5, axis=1)\n",
        "\n",
        "# We print w\n",
        "print()\n",
        "print('w = \\n', w)\n",
        "\n",
        "# We print v\n",
        "print()\n",
        "print('v = \\n', v)"
      ],
      "metadata": {
        "id": "1gCaCZhu8pq0"
      },
      "execution_count": null,
      "outputs": []
    },
    {
      "cell_type": "markdown",
      "source": [
        "NumPy also allows us to stack ndarrays on top of each other, or to stack them side by side. The stacking is done using either the np.vstack() function for vertical stacking, or the np.hstack() function for horizontal stacking. It is important to note that in order to stack ndarrays, the shape of the ndarrays must match. Let's see some examples:"
      ],
      "metadata": {
        "id": "_uHjImJJ9xk0"
      }
    },
    {
      "cell_type": "code",
      "source": [
        "# We create a rank 1 ndarray\n",
        "x = np.array([1,2])\n",
        "\n",
        "# We create a rank 2 ndarray\n",
        "Y = np.array([[3,4],[5,6]])\n",
        "\n",
        "# We print x\n",
        "print()\n",
        "print('x = ', x)\n",
        "\n",
        "# We print Y\n",
        "print()\n",
        "print('Y = \\n', Y)\n",
        "\n",
        "# We stack x on top of Y\n",
        "z = np.vstack((x,Y))\n",
        "\n",
        "# We stack x on the right of Y. We need to reshape x in order to stack it on the right of Y.\n",
        "w = np.hstack((Y,x.reshape(2,1)))\n",
        "\n",
        "# We print z\n",
        "print()\n",
        "print('z = \\n', z)\n",
        "\n",
        "# We print w\n",
        "print()\n",
        "print('w = \\n', w)"
      ],
      "metadata": {
        "id": "UJc7zk2490Iw"
      },
      "execution_count": null,
      "outputs": []
    },
    {
      "cell_type": "markdown",
      "source": [
        "Slicing ndarrays:\n",
        "As we mentioned earlier, in addition to being able to access individual elements one at a time, NumPy provides a way to access subsets of ndarrays. This is known as slicing. Slicing is performed by combining indices with the colon : symbol inside the square brackets. In general you will come across three types of slicing:\n",
        "\n",
        "1. ndarray[start:end]\n",
        "2. ndarray[start:]\n",
        "3. ndarray[:end]\n",
        "The first method is used to select elements between the start and end indices. The second method is used to select all elements from the start index till the last index. The third method is used to select all elements from the first index till the end index. We should note that in methods one and three, the end index is excluded. We should also note that since ndarrays can be multidimensional, when doing slicing you usually have to specify a slice for each dimension of the array.\n",
        "\n",
        "We will now see some examples of how to use the above methods to select different subsets of a rank 2 ndarray."
      ],
      "metadata": {
        "id": "fWREBp5D94N_"
      }
    },
    {
      "cell_type": "code",
      "source": [
        "# We create a 4 x 5 ndarray that contains integers from 0 to 19\n",
        "X = np.arange(20).reshape(4, 5)\n",
        "\n",
        "'''\n",
        "X =\n",
        "     0  1  2  3  4\n",
        "0 [[ 0  1  2  3  4]\n",
        "1 [ 5  6  7  8  9]\n",
        "2 [10 11 12 13 14]\n",
        "3 [15 16 17 18 19]]\n",
        "\n",
        "'''\n",
        "# We print X\n",
        "print()\n",
        "print('X = \\n', X)\n",
        "print()\n",
        "\n",
        "# We select all the elements that are in the 2nd through 4th rows and in the 3rd to 5th columns\n",
        "Z = X[1:4,2:5]\n",
        "\n",
        "# We print Z\n",
        "print('Z = \\n', Z)\n",
        "\n",
        "# We can select the same elements as above using method 2\n",
        "W = X[1:,2:5]\n",
        "\n",
        "# We print W\n",
        "print()\n",
        "print('W = \\n', W)\n",
        "\n",
        "# We select all the elements that are in the 1st through 3rd rows and in the 3rd to 4th columns\n",
        "Y = X[:3,2:5:2]\n",
        "\n",
        "# We print Y\n",
        "print()\n",
        "print('Y = \\n', Y)\n",
        "\n",
        "# We select all the elements in the 3rd row\n",
        "v = X[2,:]\n",
        "\n",
        "# We print v\n",
        "print()\n",
        "print('v = ', v)\n",
        "\n",
        "# We select all the elements in the 3rd column\n",
        "q = X[:,2]\n",
        "\n",
        "# We print q\n",
        "print()\n",
        "print('q = ', q)\n",
        "\n",
        "# We select all the elements in the 3rd column but return a rank 2 ndarray\n",
        "R = X[:,2:3]\n",
        "\n",
        "# We print R\n",
        "print()\n",
        "print('R = \\n', R)\n",
        "#1:4 2:5\n",
        "#1: 2:5\n",
        "# :3,2:5:2\n",
        "# 2,:"
      ],
      "metadata": {
        "id": "yFINwifc95CA"
      },
      "execution_count": null,
      "outputs": []
    },
    {
      "cell_type": "markdown",
      "source": [
        "Notice that when we selected all the elements in the 3rd column, variable q above, the slice returned a rank 1 ndarray instead of a rank 2 ndarray. However, slicing X in a slightly different way, variable R above, we can actually get a rank 2 ndarray instead.\n",
        "\n",
        "It is important to note that when we perform slices on ndarrays and save them into new variables, as we did above, the data is not copied into the new variable. This is one feature that often causes confusion for beginners. Therefore, we will look at this in a bit more detail.\n",
        "\n",
        "In the above examples, when we make assignments, such as:\n",
        "\n",
        "Z = X[1:4,2:5]\n",
        "the slice of the original array X is not copied in the variable Z. Rather, X and Z are now just two different names for the same ndarray. We say that slicing only creates a view of the original array. This means that if you make changes in Z you will be in effect changing the elements in X as well. Let's see this with an example:"
      ],
      "metadata": {
        "id": "i7FQtVjR97dY"
      }
    },
    {
      "cell_type": "code",
      "source": [
        "# We create a 4 x 5 ndarray that contains integers from 0 to 19\n",
        "X = np.arange(20).reshape(4, 5)\n",
        "\n",
        "'''\n",
        "X =\n",
        " [[ 0  1  2  3  4]\n",
        " [ 5  6  7  8  9]\n",
        " [10 11 12 13 14]\n",
        " [15 16 17 18 19]]\n",
        "'''\n",
        "\n",
        "# We print X\n",
        "print()\n",
        "print('X = \\n', X)\n",
        "print()\n",
        "\n",
        "# We select all the elements that are in the 2nd through 4th rows and in the 3rd to 4th columns\n",
        "Z = X[1:4,2:5]\n",
        "\n",
        "# We print Z\n",
        "print()\n",
        "print('Z = \\n', Z)\n",
        "print()\n",
        "\n",
        "# We change the last element in Z to 555\n",
        "Z[2,2] = 555\n",
        "\n",
        "X[2,2]=90\n",
        "# We print X\n",
        "print()\n",
        "print('X = \\n', X)\n",
        "print()\n",
        "\n",
        "print()\n",
        "print(Z)"
      ],
      "metadata": {
        "id": "uWlXKFYL99ed"
      },
      "execution_count": null,
      "outputs": []
    }
  ]
}